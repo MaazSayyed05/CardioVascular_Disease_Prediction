{
  "nbformat": 4,
  "nbformat_minor": 0,
  "metadata": {
    "colab": {
      "provenance": [],
      "gpuType": "T4"
    },
    "kernelspec": {
      "name": "python3",
      "display_name": "Python 3"
    },
    "language_info": {
      "name": "python"
    },
    "accelerator": "GPU"
  },
  "cells": [
    {
      "cell_type": "code",
      "execution_count": null,
      "metadata": {
        "colab": {
          "base_uri": "https://localhost:8080/"
        },
        "id": "MXaClS-wzKSw",
        "outputId": "9c11a9fe-f175-4fee-9e0f-49b0cc20df5b"
      },
      "outputs": [
        {
          "output_type": "stream",
          "name": "stdout",
          "text": [
            "Tue Sep 19 09:41:00 2023       \n",
            "+-----------------------------------------------------------------------------+\n",
            "| NVIDIA-SMI 525.105.17   Driver Version: 525.105.17   CUDA Version: 12.0     |\n",
            "|-------------------------------+----------------------+----------------------+\n",
            "| GPU  Name        Persistence-M| Bus-Id        Disp.A | Volatile Uncorr. ECC |\n",
            "| Fan  Temp  Perf  Pwr:Usage/Cap|         Memory-Usage | GPU-Util  Compute M. |\n",
            "|                               |                      |               MIG M. |\n",
            "|===============================+======================+======================|\n",
            "|   0  Tesla T4            Off  | 00000000:00:04.0 Off |                    0 |\n",
            "| N/A   42C    P8     9W /  70W |      0MiB / 15360MiB |      0%      Default |\n",
            "|                               |                      |                  N/A |\n",
            "+-------------------------------+----------------------+----------------------+\n",
            "                                                                               \n",
            "+-----------------------------------------------------------------------------+\n",
            "| Processes:                                                                  |\n",
            "|  GPU   GI   CI        PID   Type   Process name                  GPU Memory |\n",
            "|        ID   ID                                                   Usage      |\n",
            "|=============================================================================|\n",
            "|  No running processes found                                                 |\n",
            "+-----------------------------------------------------------------------------+\n"
          ]
        }
      ],
      "source": [
        "!nvidia-smi"
      ]
    },
    {
      "cell_type": "code",
      "source": [
        "import pandas as pd\n",
        "import numpy as np\n",
        "import warnings\n",
        "warnings.filterwarnings('ignore')\n",
        "\n",
        "\n",
        "\n",
        "# !pip install tensorflow\n",
        "# !pip install keras\n",
        "\n",
        "import tensorflow as tf\n",
        "import keras\n",
        "from keras.preprocessing.image import ImageDataGenerator, load_img\n",
        "from glob import glob\n",
        "\n",
        "from keras.models import Sequential\n",
        "from keras.layers import Flatten, Dense, Dropout\n",
        "from keras.applications import  VGG16\n",
        "from keras.applications import ResNet50\n",
        "from keras.applications import InceptionV3"
      ],
      "metadata": {
        "colab": {
          "base_uri": "https://localhost:8080/"
        },
        "id": "TH3exmv72TPP",
        "outputId": "3d57cdff-61d4-4ec4-f71b-363a3e6a47f4"
      },
      "execution_count": null,
      "outputs": [
        {
          "output_type": "stream",
          "name": "stdout",
          "text": [
            "Requirement already satisfied: tensorflow in /usr/local/lib/python3.10/dist-packages (2.13.0)\n",
            "Requirement already satisfied: absl-py>=1.0.0 in /usr/local/lib/python3.10/dist-packages (from tensorflow) (1.4.0)\n",
            "Requirement already satisfied: astunparse>=1.6.0 in /usr/local/lib/python3.10/dist-packages (from tensorflow) (1.6.3)\n",
            "Requirement already satisfied: flatbuffers>=23.1.21 in /usr/local/lib/python3.10/dist-packages (from tensorflow) (23.5.26)\n",
            "Requirement already satisfied: gast<=0.4.0,>=0.2.1 in /usr/local/lib/python3.10/dist-packages (from tensorflow) (0.4.0)\n",
            "Requirement already satisfied: google-pasta>=0.1.1 in /usr/local/lib/python3.10/dist-packages (from tensorflow) (0.2.0)\n",
            "Requirement already satisfied: grpcio<2.0,>=1.24.3 in /usr/local/lib/python3.10/dist-packages (from tensorflow) (1.57.0)\n",
            "Requirement already satisfied: h5py>=2.9.0 in /usr/local/lib/python3.10/dist-packages (from tensorflow) (3.9.0)\n",
            "Requirement already satisfied: keras<2.14,>=2.13.1 in /usr/local/lib/python3.10/dist-packages (from tensorflow) (2.13.1)\n",
            "Requirement already satisfied: libclang>=13.0.0 in /usr/local/lib/python3.10/dist-packages (from tensorflow) (16.0.6)\n",
            "Requirement already satisfied: numpy<=1.24.3,>=1.22 in /usr/local/lib/python3.10/dist-packages (from tensorflow) (1.23.5)\n",
            "Requirement already satisfied: opt-einsum>=2.3.2 in /usr/local/lib/python3.10/dist-packages (from tensorflow) (3.3.0)\n",
            "Requirement already satisfied: packaging in /usr/local/lib/python3.10/dist-packages (from tensorflow) (23.1)\n",
            "Requirement already satisfied: protobuf!=4.21.0,!=4.21.1,!=4.21.2,!=4.21.3,!=4.21.4,!=4.21.5,<5.0.0dev,>=3.20.3 in /usr/local/lib/python3.10/dist-packages (from tensorflow) (3.20.3)\n",
            "Requirement already satisfied: setuptools in /usr/local/lib/python3.10/dist-packages (from tensorflow) (67.7.2)\n",
            "Requirement already satisfied: six>=1.12.0 in /usr/local/lib/python3.10/dist-packages (from tensorflow) (1.16.0)\n",
            "Requirement already satisfied: tensorboard<2.14,>=2.13 in /usr/local/lib/python3.10/dist-packages (from tensorflow) (2.13.0)\n",
            "Requirement already satisfied: tensorflow-estimator<2.14,>=2.13.0 in /usr/local/lib/python3.10/dist-packages (from tensorflow) (2.13.0)\n",
            "Requirement already satisfied: termcolor>=1.1.0 in /usr/local/lib/python3.10/dist-packages (from tensorflow) (2.3.0)\n",
            "Requirement already satisfied: typing-extensions<4.6.0,>=3.6.6 in /usr/local/lib/python3.10/dist-packages (from tensorflow) (4.5.0)\n",
            "Requirement already satisfied: wrapt>=1.11.0 in /usr/local/lib/python3.10/dist-packages (from tensorflow) (1.15.0)\n",
            "Requirement already satisfied: tensorflow-io-gcs-filesystem>=0.23.1 in /usr/local/lib/python3.10/dist-packages (from tensorflow) (0.33.0)\n",
            "Requirement already satisfied: wheel<1.0,>=0.23.0 in /usr/local/lib/python3.10/dist-packages (from astunparse>=1.6.0->tensorflow) (0.41.2)\n",
            "Requirement already satisfied: google-auth<3,>=1.6.3 in /usr/local/lib/python3.10/dist-packages (from tensorboard<2.14,>=2.13->tensorflow) (2.17.3)\n",
            "Requirement already satisfied: google-auth-oauthlib<1.1,>=0.5 in /usr/local/lib/python3.10/dist-packages (from tensorboard<2.14,>=2.13->tensorflow) (1.0.0)\n",
            "Requirement already satisfied: markdown>=2.6.8 in /usr/local/lib/python3.10/dist-packages (from tensorboard<2.14,>=2.13->tensorflow) (3.4.4)\n",
            "Requirement already satisfied: requests<3,>=2.21.0 in /usr/local/lib/python3.10/dist-packages (from tensorboard<2.14,>=2.13->tensorflow) (2.31.0)\n",
            "Requirement already satisfied: tensorboard-data-server<0.8.0,>=0.7.0 in /usr/local/lib/python3.10/dist-packages (from tensorboard<2.14,>=2.13->tensorflow) (0.7.1)\n",
            "Requirement already satisfied: werkzeug>=1.0.1 in /usr/local/lib/python3.10/dist-packages (from tensorboard<2.14,>=2.13->tensorflow) (2.3.7)\n",
            "Requirement already satisfied: cachetools<6.0,>=2.0.0 in /usr/local/lib/python3.10/dist-packages (from google-auth<3,>=1.6.3->tensorboard<2.14,>=2.13->tensorflow) (5.3.1)\n",
            "Requirement already satisfied: pyasn1-modules>=0.2.1 in /usr/local/lib/python3.10/dist-packages (from google-auth<3,>=1.6.3->tensorboard<2.14,>=2.13->tensorflow) (0.3.0)\n",
            "Requirement already satisfied: rsa<5,>=3.1.4 in /usr/local/lib/python3.10/dist-packages (from google-auth<3,>=1.6.3->tensorboard<2.14,>=2.13->tensorflow) (4.9)\n",
            "Requirement already satisfied: requests-oauthlib>=0.7.0 in /usr/local/lib/python3.10/dist-packages (from google-auth-oauthlib<1.1,>=0.5->tensorboard<2.14,>=2.13->tensorflow) (1.3.1)\n",
            "Requirement already satisfied: charset-normalizer<4,>=2 in /usr/local/lib/python3.10/dist-packages (from requests<3,>=2.21.0->tensorboard<2.14,>=2.13->tensorflow) (3.2.0)\n",
            "Requirement already satisfied: idna<4,>=2.5 in /usr/local/lib/python3.10/dist-packages (from requests<3,>=2.21.0->tensorboard<2.14,>=2.13->tensorflow) (3.4)\n",
            "Requirement already satisfied: urllib3<3,>=1.21.1 in /usr/local/lib/python3.10/dist-packages (from requests<3,>=2.21.0->tensorboard<2.14,>=2.13->tensorflow) (2.0.4)\n",
            "Requirement already satisfied: certifi>=2017.4.17 in /usr/local/lib/python3.10/dist-packages (from requests<3,>=2.21.0->tensorboard<2.14,>=2.13->tensorflow) (2023.7.22)\n",
            "Requirement already satisfied: MarkupSafe>=2.1.1 in /usr/local/lib/python3.10/dist-packages (from werkzeug>=1.0.1->tensorboard<2.14,>=2.13->tensorflow) (2.1.3)\n",
            "Requirement already satisfied: pyasn1<0.6.0,>=0.4.6 in /usr/local/lib/python3.10/dist-packages (from pyasn1-modules>=0.2.1->google-auth<3,>=1.6.3->tensorboard<2.14,>=2.13->tensorflow) (0.5.0)\n",
            "Requirement already satisfied: oauthlib>=3.0.0 in /usr/local/lib/python3.10/dist-packages (from requests-oauthlib>=0.7.0->google-auth-oauthlib<1.1,>=0.5->tensorboard<2.14,>=2.13->tensorflow) (3.2.2)\n",
            "Requirement already satisfied: keras in /usr/local/lib/python3.10/dist-packages (2.13.1)\n"
          ]
        }
      ]
    },
    {
      "cell_type": "code",
      "source": [
        "\n",
        "from google.colab import drive\n",
        "drive.mount('/content/drive')"
      ],
      "metadata": {
        "colab": {
          "base_uri": "https://localhost:8080/"
        },
        "id": "XYRtB1jKzjj8",
        "outputId": "b7432f66-2ba2-4ff5-ae85-952306f7f309"
      },
      "execution_count": null,
      "outputs": [
        {
          "output_type": "stream",
          "name": "stdout",
          "text": [
            "Mounted at /content/drive\n"
          ]
        }
      ]
    },
    {
      "cell_type": "code",
      "source": [
        "ROOT_PATH = '/content/drive/MyDrive'"
      ],
      "metadata": {
        "id": "skoo0ojqzjhZ"
      },
      "execution_count": null,
      "outputs": []
    },
    {
      "cell_type": "code",
      "source": [
        "!pwd"
      ],
      "metadata": {
        "colab": {
          "base_uri": "https://localhost:8080/"
        },
        "id": "zHTOcAKOzje4",
        "outputId": "b4f06fd2-ebe1-4e78-fe3d-3c2f047c0b89"
      },
      "execution_count": null,
      "outputs": [
        {
          "output_type": "stream",
          "name": "stdout",
          "text": [
            "/content\n"
          ]
        }
      ]
    },
    {
      "cell_type": "code",
      "source": [
        "\n",
        "import os\n",
        "os.chdir(ROOT_PATH)\n",
        "os.getcwd()"
      ],
      "metadata": {
        "colab": {
          "base_uri": "https://localhost:8080/",
          "height": 36
        },
        "id": "kD4D6U8Yzjcm",
        "outputId": "8d741e7f-1cd7-445c-98b3-78c21c2a12cf"
      },
      "execution_count": null,
      "outputs": [
        {
          "output_type": "execute_result",
          "data": {
            "text/plain": [
              "'/content/drive/MyDrive'"
            ],
            "application/vnd.google.colaboratory.intrinsic+json": {
              "type": "string"
            }
          },
          "metadata": {},
          "execution_count": 4
        }
      ]
    },
    {
      "cell_type": "code",
      "source": [
        "!ls\n"
      ],
      "metadata": {
        "colab": {
          "base_uri": "https://localhost:8080/"
        },
        "id": "J2e0Io44zjZN",
        "outputId": "25883b9e-7f3b-416c-f674-066bea25538b"
      },
      "execution_count": null,
      "outputs": [
        {
          "output_type": "stream",
          "name": "stdout",
          "text": [
            " 12certificate.pdf\n",
            " 4th_Sem_ResearchPapers\n",
            "'Activity Diagram'\n",
            "'Activity .pdf'\n",
            "'B3_G13_WBS - WBS.gsheet'\n",
            "'Colab Notebooks'\n",
            "'Copy of Linkedin_screenshot.jpg'\n",
            " Diabetic_Retinopathy_Dataset\n",
            " Diabetic_Retinopathy_Dataset_old\n",
            "'Document from Maaz Sayyed'\n",
            "'Document from Maaz Sayyed (1)'\n",
            "'Document from Maaz Sayyed (1).pdf'\n",
            "'Document from Maaz Sayyed (2).pdf'\n",
            "'Document from Maaz Sayyed.pdf'\n",
            " ds\n",
            " DSAAT.pdf\n",
            "'DS_Block chain and PageRank Algorithm.pdf'\n",
            "'ds lab'\n",
            "'DS_Literature  Review (1).gdoc'\n",
            "'DS_Literature  Review.gdoc'\n",
            "' HEALTHY MINDS  LOGIC.gdoc'\n",
            " hsc_marksheet.txt\n",
            " Images\n",
            " Images_Arts\n",
            " IT_A_12110133.pdf\n",
            " IT_A_12110133_VATSALYA\n",
            " Kaagaz_20220320_1917506242.pdf\n",
            " Linkedin_screenshot.jpg\n",
            "'MAR Lab Journal Index page and Front page June 22.pdf'\n",
            "'Muaz Sayyed_49_Linked List'\n",
            "'Muaz Sayyed_49_Linked List (1)'\n",
            " Narasimha_Karumanchi_Data_Structures.gdoc\n",
            "'P_49_MAD LAB_1.docx'\n",
            "'Photo from Maaz Sayyed'\n",
            "'Resume (1).gdoc'\n",
            "'Resume (2).gdoc'\n",
            " Resume.gdoc\n",
            "'Simio Assignment 3.spfx'\n",
            " SystemDesign.gdoc\n",
            "'Untitled document (1).gdoc'\n",
            "'Untitled document.gdoc'\n",
            "'Untitled presentation (1).gslides'\n",
            "'Untitled presentation (2).gslides'\n",
            "'Untitled presentation.gslides'\n"
          ]
        }
      ]
    },
    {
      "cell_type": "code",
      "source": [],
      "metadata": {
        "id": "OdkooK6UzjWe"
      },
      "execution_count": null,
      "outputs": []
    },
    {
      "cell_type": "code",
      "source": [
        "train_path      =  os.path.join('/content/drive/MyDrive/Diabetic_Retinopathy_Dataset', 'train')\n",
        "\n",
        "validation_path =  os.path.join('/content/drive/MyDrive/Diabetic_Retinopathy_Dataset', 'validation')\n",
        "\n",
        "test_path       =  os.path.join('/content/drive/MyDrive/Diabetic_Retinopathy_Dataset', 'test')"
      ],
      "metadata": {
        "id": "iyIVVzodzjTv"
      },
      "execution_count": null,
      "outputs": []
    },
    {
      "cell_type": "code",
      "source": [],
      "metadata": {
        "id": "2hJUQ1TUzjOZ"
      },
      "execution_count": null,
      "outputs": []
    },
    {
      "cell_type": "code",
      "source": [],
      "metadata": {
        "id": "e7ACTK9xzjLt"
      },
      "execution_count": null,
      "outputs": []
    },
    {
      "cell_type": "code",
      "source": [
        "train_data_gen = ImageDataGenerator(\n",
        "                rescale=1./255,\n",
        "                shear_range=0.2,\n",
        "                zoom_range=0.2,\n",
        "                horizontal_flip=True\n",
        ")\n",
        "\n",
        "\n",
        "validation_data_gen = ImageDataGenerator(\n",
        "                rescale=1./255,\n",
        "                shear_range=0.2,\n",
        "                zoom_range=0.2,\n",
        "                horizontal_flip=True\n",
        ")\n",
        "\n",
        "\n",
        "test_data_gen = ImageDataGenerator(rescale=1./255)\n",
        "\n",
        "\n",
        "            # logging.info(\"Image Data Generator Initiated Successfully.\")"
      ],
      "metadata": {
        "id": "lJ-RzGIxzjJC"
      },
      "execution_count": null,
      "outputs": []
    },
    {
      "cell_type": "code",
      "source": [],
      "metadata": {
        "id": "Dwt0BV-7zjGN"
      },
      "execution_count": null,
      "outputs": []
    },
    {
      "cell_type": "code",
      "source": [
        "train_data_set = train_data_gen.flow_from_directory(\n",
        "                train_path,\n",
        "                target_size=(224,224),\n",
        "                batch_size=32,\n",
        "                class_mode='categorical',\n",
        "                color_mode='rgb',\n",
        "                shuffle=True\n",
        ")\n",
        "\n",
        "validation_data_set = validation_data_gen.flow_from_directory(\n",
        "                validation_path,\n",
        "                target_size=(224,224),\n",
        "                batch_size=32,\n",
        "                class_mode='categorical',\n",
        "                color_mode='rgb',\n",
        "                shuffle=True\n",
        ")\n",
        "\n",
        "test_data_set = test_data_gen.flow_from_directory(\n",
        "                test_path,\n",
        "                target_size=(224,224),\n",
        "                batch_size=32,\n",
        "                class_mode='categorical',\n",
        "                color_mode='rgb',\n",
        "                shuffle=True\n",
        ")"
      ],
      "metadata": {
        "colab": {
          "base_uri": "https://localhost:8080/"
        },
        "id": "tgFwtvP6zjDh",
        "outputId": "efc9158b-2a87-4227-e659-1022b07ac740"
      },
      "execution_count": null,
      "outputs": [
        {
          "output_type": "stream",
          "name": "stdout",
          "text": [
            "Found 2744 images belonging to 5 classes.\n",
            "Found 369 images belonging to 5 classes.\n",
            "Found 549 images belonging to 5 classes.\n"
          ]
        }
      ]
    },
    {
      "cell_type": "code",
      "source": [],
      "metadata": {
        "id": "_t0pmw3dzjBB"
      },
      "execution_count": null,
      "outputs": []
    },
    {
      "cell_type": "code",
      "source": [
        "def model_compile_fit(base_models,train_data_set,validation_data_set,test_data_set):\n",
        "\n",
        "    accuracy_score_list = []\n",
        "    loss_score_list = []\n",
        "    model_fit_list = []\n",
        "    model_history_list = []\n",
        "\n",
        "    num_output_class = len(train_data_set.class_indices)\n",
        "\n",
        "    for base_model in list(base_models.values()):\n",
        "        model = Sequential()\n",
        "        model.add(base_model)\n",
        "\n",
        "        # Add Fully Connected Layers\n",
        "        model.add(Flatten())\n",
        "        model.add(Dense(units=256,activation='relu'))\n",
        "        model.add(Dropout(0.4))\n",
        "        model.add(Dense(units=num_output_class,activation='softmax'))\n",
        "\n",
        "        # Compile the Model\n",
        "        model.compile(\n",
        "            loss='categorical_crossentropy',\n",
        "            optimizer='adam',\n",
        "            metrics=['accuracy']\n",
        "        )\n",
        "\n",
        "        model.fit(\n",
        "            train_data_set,\n",
        "            validation_data=validation_data_set,\n",
        "            epochs=7,\n",
        "            steps_per_epoch=len(train_data_set),\n",
        "            validation_steps= len(validation_data_set)\n",
        "        )\n",
        "\n",
        "        model_fit_list.append(model)\n",
        "        model_history.append(model.history)\n",
        "\n",
        "        # logging.info(Add a dataframe to show each model evaluation using pd.DataFrame(model.history) [loss, acc, val_lss, val_acc])\n",
        "\n",
        "\n",
        "\n",
        "        # Make Predictions\n",
        "        # predictions = model.predict(test_data_set)\n",
        "\n",
        "        # Calculate Accuracy and Loss\n",
        "        # true_labels = test_data_set.classes\n",
        "        # predicted_labels = np.argmax(predictions, axis=1)\n",
        "\n",
        "\n",
        "        # Calculate accuracy(Since we have not used One-Hot Encoder)\n",
        "        # If you're using categorical cross-entropy loss during training\n",
        "\n",
        "        loss, accuracy = model.evaluate(test_data_set)\n",
        "\n",
        "        # print(f'Loss: {loss[0]}')\n",
        "        # accuracy = np.sum(true_labels == predicted_labels) / len(true_labels)\n",
        "        # print(f'Accuracy: {accuracy}')\n",
        "\n",
        "        accuracy_score_list.append(accuracy)\n",
        "        loss_score_list.append(loss)\n",
        "\n",
        "    # ------------------------------------------------\n",
        "\n",
        "        # To determine which class is given which label\n",
        "        # class_indices = train_generator.class_indices\n",
        "        # class_indices\n",
        "\n",
        "\n",
        "        # class_mapping = {\n",
        "        #     0: 'type1',\n",
        "        #     1: 'type2',\n",
        "        #     2: 'type3',\n",
        "        #     3: 'type4',\n",
        "        #     4: 'type5'\n",
        "        # }\n",
        "\n",
        "        # # Assuming 'predicted_labels' is the output of your model\n",
        "        # predicted_class_names = [class_mapping[label] for label in predicted_labels]\n",
        "\n",
        "    # -----------------------------------------------------\n",
        "\n",
        "\n",
        "\n",
        "    return (\n",
        "        accuracy_score_list,\n",
        "        loss_score_list,\n",
        "        model_fit_list,\n",
        "        model_history_list\n",
        "    )\n",
        "\n",
        "\n"
      ],
      "metadata": {
        "id": "rm7GMJuGzi97"
      },
      "execution_count": null,
      "outputs": []
    },
    {
      "cell_type": "code",
      "source": [],
      "metadata": {
        "id": "dTBsQSafzi6_"
      },
      "execution_count": null,
      "outputs": []
    },
    {
      "cell_type": "code",
      "source": [
        "IMAGE_SIZE = [224,224]\n",
        "CHANNELS = [3]  # RGB\n",
        "\n",
        "\n",
        "            # Model Dict.\n",
        "            # Define model fit, compile, define base_model  in utils\n",
        "\n",
        "base_models = {\n",
        "                'VGG16'           : VGG16(input_shape=IMAGE_SIZE+CHANNELS, weights='imagenet', include_top=False),\n",
        "                'RESNET50'        : ResNet50(weights='imagenet', include_top=False, input_shape=IMAGE_SIZE+CHANNELS),\n",
        "                'InceptionV3'     : InceptionV3(input_shape=IMAGE_SIZE+CHANNELS, weights='imagenet', include_top=False),\n",
        "            }\n",
        "\n",
        "\n",
        "accuracy_score_list, loss_score_list, model_fit_list, model_history_list = model_compile_fit(base_models,train_data_set,validation_data_set,test_data_set)\n",
        "\n",
        "best_score_index = accuracy_score_list.index(max(accuracy_score_list))\n",
        "\n",
        "best_model_name = list(base_models.keys())[best_score_index]\n",
        "\n",
        "best_model = model_fit_list[best_score_index]\n",
        "\n",
        "best_model_loss = loss_score_list[best_score_index]\n",
        "\n",
        "best_model_accuracy = accuracy_score_list[best_score_index]\n",
        "\n",
        "best_model_history = model_history_list[best_score_index]\n"
      ],
      "metadata": {
        "colab": {
          "base_uri": "https://localhost:8080/"
        },
        "id": "Ek6Os22Zzi4M",
        "outputId": "802f2dd7-fab9-47dd-bece-28bc93ec1f6c"
      },
      "execution_count": null,
      "outputs": [
        {
          "metadata": {
            "tags": null
          },
          "name": "stdout",
          "output_type": "stream",
          "text": [
            "Downloading data from https://storage.googleapis.com/tensorflow/keras-applications/vgg16/vgg16_weights_tf_dim_ordering_tf_kernels_notop.h5\n",
            "58889256/58889256 [==============================] - 0s 0us/step\n",
            "Downloading data from https://storage.googleapis.com/tensorflow/keras-applications/resnet/resnet50_weights_tf_dim_ordering_tf_kernels_notop.h5\n",
            "94765736/94765736 [==============================] - 0s 0us/step\n",
            "Downloading data from https://storage.googleapis.com/tensorflow/keras-applications/inception_v3/inception_v3_weights_tf_dim_ordering_tf_kernels_notop.h5\n",
            "87910968/87910968 [==============================] - 1s 0us/step\n",
            "Epoch 1/7\n",
            "86/86 [==============================] - 627s 7s/step - loss: 1.4111 - accuracy: 0.4894 - val_loss: 0.9645 - val_accuracy: 0.6775\n",
            "Epoch 2/7\n",
            "86/86 [==============================] - 58s 678ms/step - loss: 1.0779 - accuracy: 0.6235 - val_loss: 0.9368 - val_accuracy: 0.6612\n",
            "Epoch 3/7\n",
            "86/86 [==============================] - 59s 683ms/step - loss: 0.9660 - accuracy: 0.6669 - val_loss: 0.9630 - val_accuracy: 0.6667\n",
            "Epoch 4/7\n",
            "86/86 [==============================] - 59s 683ms/step - loss: 0.9347 - accuracy: 0.6760 - val_loss: 0.8866 - val_accuracy: 0.6802\n",
            "Epoch 5/7\n",
            "86/86 [==============================] - 58s 675ms/step - loss: 0.8925 - accuracy: 0.6888 - val_loss: 0.7971 - val_accuracy: 0.7182\n",
            "Epoch 6/7\n",
            "86/86 [==============================] - 59s 685ms/step - loss: 0.8998 - accuracy: 0.6877 - val_loss: 0.8158 - val_accuracy: 0.6938\n",
            "Epoch 7/7\n",
            "86/86 [==============================] - 58s 675ms/step - loss: 0.8800 - accuracy: 0.6924 - val_loss: 0.8019 - val_accuracy: 0.7127\n",
            "18/18 [==============================] - 98s 6s/step - loss: 0.7801 - accuracy: 0.7231\n",
            "Epoch 1/7\n",
            "86/86 [==============================] - 102s 700ms/step - loss: 5.3154 - accuracy: 0.6301 - val_loss: 1.5196 - val_accuracy: 0.5447\n",
            "Epoch 2/7\n",
            "86/86 [==============================] - 57s 657ms/step - loss: 1.2816 - accuracy: 0.6596 - val_loss: 367.0871 - val_accuracy: 0.4905\n",
            "Epoch 3/7\n",
            "86/86 [==============================] - 57s 665ms/step - loss: 1.0879 - accuracy: 0.6695 - val_loss: 1.5502 - val_accuracy: 0.2710\n",
            "Epoch 4/7\n",
            "86/86 [==============================] - 57s 664ms/step - loss: 0.9502 - accuracy: 0.6749 - val_loss: 1.5351 - val_accuracy: 0.4905\n",
            "Epoch 5/7\n",
            "86/86 [==============================] - 57s 658ms/step - loss: 0.9224 - accuracy: 0.6811 - val_loss: 1.5293 - val_accuracy: 0.4905\n",
            "Epoch 6/7\n",
            "86/86 [==============================] - 57s 662ms/step - loss: 0.9022 - accuracy: 0.6844 - val_loss: 1.5224 - val_accuracy: 0.5339\n",
            "Epoch 7/7\n",
            "86/86 [==============================] - 58s 670ms/step - loss: 0.8844 - accuracy: 0.6906 - val_loss: 1.5285 - val_accuracy: 0.2710\n",
            "18/18 [==============================] - 3s 189ms/step - loss: 1.5271 - accuracy: 0.2732\n",
            "Epoch 1/7\n",
            "86/86 [==============================] - 102s 694ms/step - loss: 1.2847 - accuracy: 0.6352 - val_loss: 2501351.2500 - val_accuracy: 0.4905\n",
            "Epoch 2/7\n",
            "86/86 [==============================] - 54s 626ms/step - loss: 2.0913 - accuracy: 0.6516 - val_loss: 86874.2656 - val_accuracy: 0.4905\n",
            "Epoch 3/7\n",
            "86/86 [==============================] - 54s 627ms/step - loss: 1.3221 - accuracy: 0.6757 - val_loss: 1.0166 - val_accuracy: 0.6667\n",
            "Epoch 4/7\n",
            "86/86 [==============================] - 53s 617ms/step - loss: 0.9637 - accuracy: 0.6964 - val_loss: 3.3485 - val_accuracy: 0.6612\n",
            "Epoch 5/7\n",
            "86/86 [==============================] - 54s 629ms/step - loss: 0.8176 - accuracy: 0.7172 - val_loss: 0.9488 - val_accuracy: 0.6504\n",
            "Epoch 6/7\n",
            "86/86 [==============================] - 54s 624ms/step - loss: 0.7906 - accuracy: 0.7176 - val_loss: 0.9635 - val_accuracy: 0.6721\n",
            "Epoch 7/7\n",
            "86/86 [==============================] - 57s 664ms/step - loss: 0.7377 - accuracy: 0.7296 - val_loss: 0.7100 - val_accuracy: 0.7371\n",
            "18/18 [==============================] - 3s 178ms/step - loss: 0.6774 - accuracy: 0.7505\n"
          ]
        }
      ]
    },
    {
      "cell_type": "code",
      "source": [
        "base_models"
      ],
      "metadata": {
        "colab": {
          "base_uri": "https://localhost:8080/"
        },
        "id": "tqqOXksOzi1j",
        "outputId": "af706bba-e161-4745-efab-9f71679dc467"
      },
      "execution_count": null,
      "outputs": [
        {
          "output_type": "execute_result",
          "data": {
            "text/plain": [
              "{'VGG16': <keras.src.engine.functional.Functional at 0x79bbba941480>,\n",
              " 'RESNET50': <keras.src.engine.functional.Functional at 0x79bbb80d82b0>,\n",
              " 'InceptionV3': <keras.src.engine.functional.Functional at 0x79bba025f6a0>}"
            ]
          },
          "metadata": {},
          "execution_count": 16
        }
      ]
    },
    {
      "cell_type": "code",
      "source": [
        "accuracy_score_list"
      ],
      "metadata": {
        "colab": {
          "base_uri": "https://localhost:8080/"
        },
        "id": "hgOD6JG1ziy8",
        "outputId": "c80df0ba-d9fe-4ed1-ad9f-58fb12e3dddc"
      },
      "execution_count": null,
      "outputs": [
        {
          "output_type": "execute_result",
          "data": {
            "text/plain": [
              "[0.7231329679489136, 0.2732240557670593, 0.750455379486084]"
            ]
          },
          "metadata": {},
          "execution_count": 17
        }
      ]
    },
    {
      "cell_type": "code",
      "source": [
        "loss_score_list"
      ],
      "metadata": {
        "colab": {
          "base_uri": "https://localhost:8080/"
        },
        "id": "Sp37o9P5ziwn",
        "outputId": "fb421d15-8ea2-4ccf-c69f-dbad1cc5e26b"
      },
      "execution_count": null,
      "outputs": [
        {
          "output_type": "execute_result",
          "data": {
            "text/plain": [
              "[0.7800658345222473, 1.5271400213241577, 0.6774214506149292]"
            ]
          },
          "metadata": {},
          "execution_count": 18
        }
      ]
    },
    {
      "cell_type": "code",
      "source": [
        "model_fit_list"
      ],
      "metadata": {
        "colab": {
          "base_uri": "https://localhost:8080/"
        },
        "id": "6q9oN6bQ71ez",
        "outputId": "d2be12de-ea01-4260-dc42-356f4cbb8fd3"
      },
      "execution_count": null,
      "outputs": [
        {
          "output_type": "execute_result",
          "data": {
            "text/plain": [
              "[<keras.src.engine.sequential.Sequential at 0x79bba025ff70>,\n",
              " <keras.src.engine.sequential.Sequential at 0x79bba024a770>,\n",
              " <keras.src.engine.sequential.Sequential at 0x79bba022ca60>]"
            ]
          },
          "metadata": {},
          "execution_count": 19
        }
      ]
    },
    {
      "cell_type": "code",
      "source": [
        "best_score_index = accuracy_score_list.index(max(accuracy_score_list))\n",
        "\n",
        "best_model_name = list(base_models.keys())[best_score_index]\n",
        "\n",
        "best_model = model_fit_list[best_score_index]\n",
        "\n",
        "best_model_loss = loss_score_list[best_score_index]\n",
        "\n",
        "best_model_accuracy = accuracy_score_list[best_score_index]"
      ],
      "metadata": {
        "id": "c7Q3JgJM71bx"
      },
      "execution_count": null,
      "outputs": []
    },
    {
      "cell_type": "code",
      "source": [
        "best_score_index"
      ],
      "metadata": {
        "colab": {
          "base_uri": "https://localhost:8080/"
        },
        "id": "GJqWnEYt71Yx",
        "outputId": "e9255160-9e2d-4e47-edf9-62b697ee373f"
      },
      "execution_count": null,
      "outputs": [
        {
          "output_type": "execute_result",
          "data": {
            "text/plain": [
              "2"
            ]
          },
          "metadata": {},
          "execution_count": 22
        }
      ]
    },
    {
      "cell_type": "code",
      "source": [
        "best_model_accuracy"
      ],
      "metadata": {
        "colab": {
          "base_uri": "https://localhost:8080/"
        },
        "id": "QUkWbKXx71V-",
        "outputId": "1b273ddf-aeab-4468-e1d5-cee3b5ca46c4"
      },
      "execution_count": null,
      "outputs": [
        {
          "output_type": "execute_result",
          "data": {
            "text/plain": [
              "0.750455379486084"
            ]
          },
          "metadata": {},
          "execution_count": 23
        }
      ]
    },
    {
      "cell_type": "code",
      "source": [
        "best_model_loss"
      ],
      "metadata": {
        "colab": {
          "base_uri": "https://localhost:8080/"
        },
        "id": "p2y8EtyNA8-w",
        "outputId": "e7a6ddb9-4ae3-4628-db06-5238e877e514"
      },
      "execution_count": null,
      "outputs": [
        {
          "output_type": "execute_result",
          "data": {
            "text/plain": [
              "0.6774214506149292"
            ]
          },
          "metadata": {},
          "execution_count": 24
        }
      ]
    },
    {
      "cell_type": "code",
      "source": [
        "best_model_name"
      ],
      "metadata": {
        "colab": {
          "base_uri": "https://localhost:8080/",
          "height": 36
        },
        "id": "lP-jbd--A876",
        "outputId": "342e168a-22fc-4347-9408-da6da389d257"
      },
      "execution_count": null,
      "outputs": [
        {
          "output_type": "execute_result",
          "data": {
            "text/plain": [
              "'InceptionV3'"
            ],
            "application/vnd.google.colaboratory.intrinsic+json": {
              "type": "string"
            }
          },
          "metadata": {},
          "execution_count": 25
        }
      ]
    },
    {
      "cell_type": "code",
      "source": [
        "best_model"
      ],
      "metadata": {
        "colab": {
          "base_uri": "https://localhost:8080/"
        },
        "id": "2yD5UxvcA85u",
        "outputId": "4500ec4c-59a3-48a9-b09e-87cd9a1930bc"
      },
      "execution_count": null,
      "outputs": [
        {
          "output_type": "execute_result",
          "data": {
            "text/plain": [
              "<keras.src.engine.sequential.Sequential at 0x79bba022ca60>"
            ]
          },
          "metadata": {},
          "execution_count": 26
        }
      ]
    },
    {
      "cell_type": "code",
      "source": [
        "scores = best_model.evaluate(test_data_set)"
      ],
      "metadata": {
        "colab": {
          "base_uri": "https://localhost:8080/"
        },
        "id": "i7TjgknXA82q",
        "outputId": "2ed342c2-068b-4bca-d908-5ee2c7dc0b28"
      },
      "execution_count": null,
      "outputs": [
        {
          "output_type": "stream",
          "name": "stdout",
          "text": [
            "18/18 [==============================] - 3s 151ms/step - loss: 0.6774 - accuracy: 0.7505\n"
          ]
        }
      ]
    },
    {
      "cell_type": "code",
      "source": [
        "scores"
      ],
      "metadata": {
        "colab": {
          "base_uri": "https://localhost:8080/"
        },
        "id": "K7DxEoPQA80D",
        "outputId": "61f241ac-25c2-4f3d-fcb3-d2d611b1186d"
      },
      "execution_count": null,
      "outputs": [
        {
          "output_type": "execute_result",
          "data": {
            "text/plain": [
              "[0.6774214506149292, 0.750455379486084]"
            ]
          },
          "metadata": {},
          "execution_count": 28
        }
      ]
    },
    {
      "cell_type": "code",
      "source": [],
      "metadata": {
        "id": "Mb5Z9ytdA8xl"
      },
      "execution_count": null,
      "outputs": []
    },
    {
      "cell_type": "code",
      "source": [
        "\n",
        "        # Make Predictions\n",
        "predictions = best_model.predict(test_data_set)\n",
        "\n",
        "# Calculate Accuracy and Loss\n",
        "true_labels = test_data_set.classes\n",
        "predicted_labels = np.argmax(predictions, axis=1)"
      ],
      "metadata": {
        "colab": {
          "base_uri": "https://localhost:8080/"
        },
        "id": "UPpDmtNsA8vS",
        "outputId": "66add5c1-51e1-432d-f835-8a12d5c25d3e"
      },
      "execution_count": null,
      "outputs": [
        {
          "output_type": "stream",
          "name": "stdout",
          "text": [
            "18/18 [==============================] - 4s 154ms/step\n"
          ]
        }
      ]
    },
    {
      "cell_type": "code",
      "source": [
        "true_labels"
      ],
      "metadata": {
        "colab": {
          "base_uri": "https://localhost:8080/"
        },
        "id": "WSOF9lBEA8ss",
        "outputId": "ea3a43ed-d773-40f8-8836-24591fcb463c"
      },
      "execution_count": null,
      "outputs": [
        {
          "output_type": "execute_result",
          "data": {
            "text/plain": [
              "array([0, 0, 0, 0, 0, 0, 0, 0, 0, 0, 0, 0, 0, 0, 0, 0, 0, 0, 0, 0, 0, 0,\n",
              "       0, 0, 0, 0, 0, 0, 0, 0, 0, 0, 0, 0, 0, 0, 0, 0, 0, 0, 0, 0, 0, 0,\n",
              "       0, 0, 0, 0, 0, 0, 0, 0, 0, 0, 0, 1, 1, 1, 1, 1, 1, 1, 1, 1, 1, 1,\n",
              "       1, 1, 1, 1, 1, 1, 1, 1, 1, 1, 1, 1, 1, 1, 1, 1, 1, 1, 1, 1, 1, 1,\n",
              "       1, 1, 1, 1, 1, 1, 1, 1, 1, 1, 1, 1, 1, 1, 1, 1, 1, 1, 1, 1, 1, 1,\n",
              "       1, 1, 1, 1, 1, 1, 1, 1, 1, 1, 1, 1, 1, 1, 1, 1, 1, 1, 1, 1, 1, 1,\n",
              "       1, 1, 1, 1, 1, 1, 1, 1, 1, 1, 1, 1, 1, 1, 1, 1, 1, 1, 1, 1, 1, 1,\n",
              "       1, 1, 1, 1, 1, 1, 1, 1, 1, 1, 1, 1, 1, 1, 1, 1, 1, 1, 1, 1, 1, 1,\n",
              "       1, 1, 1, 1, 1, 1, 1, 1, 1, 1, 1, 1, 1, 1, 1, 1, 1, 1, 1, 1, 1, 1,\n",
              "       1, 1, 1, 1, 1, 1, 1, 2, 2, 2, 2, 2, 2, 2, 2, 2, 2, 2, 2, 2, 2, 2,\n",
              "       2, 2, 2, 2, 2, 2, 2, 2, 2, 2, 2, 2, 2, 2, 2, 2, 2, 2, 2, 2, 2, 2,\n",
              "       2, 2, 2, 2, 2, 2, 2, 2, 2, 2, 2, 2, 2, 2, 2, 2, 2, 2, 2, 2, 2, 2,\n",
              "       2, 2, 2, 2, 2, 2, 2, 2, 2, 2, 2, 2, 2, 2, 2, 2, 2, 2, 2, 2, 2, 2,\n",
              "       2, 2, 2, 2, 2, 2, 2, 2, 2, 2, 2, 2, 2, 2, 2, 2, 2, 2, 2, 2, 2, 2,\n",
              "       2, 2, 2, 2, 2, 2, 2, 2, 2, 2, 2, 2, 2, 2, 2, 2, 2, 2, 2, 2, 2, 2,\n",
              "       2, 2, 2, 2, 2, 2, 2, 2, 2, 2, 2, 2, 2, 2, 2, 2, 2, 2, 2, 2, 2, 2,\n",
              "       2, 2, 2, 2, 2, 2, 2, 2, 2, 2, 2, 2, 2, 2, 2, 2, 2, 2, 2, 2, 2, 2,\n",
              "       2, 2, 2, 2, 2, 2, 2, 2, 2, 2, 2, 2, 2, 2, 2, 2, 2, 2, 2, 2, 2, 2,\n",
              "       2, 2, 2, 2, 2, 2, 2, 2, 2, 2, 2, 2, 2, 2, 2, 2, 2, 2, 2, 2, 2, 2,\n",
              "       2, 2, 2, 2, 2, 2, 2, 2, 2, 2, 2, 2, 2, 2, 2, 2, 2, 2, 2, 2, 2, 2,\n",
              "       2, 2, 2, 2, 2, 2, 2, 2, 2, 2, 2, 2, 2, 2, 2, 2, 2, 2, 2, 2, 2, 2,\n",
              "       2, 2, 2, 2, 2, 2, 2, 2, 2, 2, 2, 2, 2, 2, 3, 3, 3, 3, 3, 3, 3, 3,\n",
              "       3, 3, 3, 3, 3, 3, 3, 3, 3, 3, 3, 3, 3, 3, 3, 3, 3, 3, 3, 3, 3, 3,\n",
              "       3, 3, 3, 3, 3, 3, 3, 3, 3, 3, 3, 3, 3, 3, 4, 4, 4, 4, 4, 4, 4, 4,\n",
              "       4, 4, 4, 4, 4, 4, 4, 4, 4, 4, 4, 4, 4, 4, 4, 4, 4, 4, 4, 4, 4],\n",
              "      dtype=int32)"
            ]
          },
          "metadata": {},
          "execution_count": 30
        }
      ]
    },
    {
      "cell_type": "code",
      "source": [
        "predicted_labels"
      ],
      "metadata": {
        "colab": {
          "base_uri": "https://localhost:8080/"
        },
        "id": "MiO1SIYrA8pL",
        "outputId": "97c8866a-b120-4aeb-9e56-c3ff9cf0d067"
      },
      "execution_count": null,
      "outputs": [
        {
          "output_type": "execute_result",
          "data": {
            "text/plain": [
              "array([1, 1, 2, 1, 1, 2, 1, 1, 1, 1, 1, 1, 1, 1, 2, 2, 2, 2, 2, 1, 1, 2,\n",
              "       1, 2, 1, 2, 2, 1, 2, 2, 1, 1, 1, 1, 1, 2, 1, 1, 2, 2, 2, 2, 1, 1,\n",
              "       1, 2, 2, 1, 1, 2, 2, 2, 2, 2, 1, 2, 2, 2, 2, 2, 1, 1, 1, 1, 1, 1,\n",
              "       2, 1, 2, 2, 2, 1, 1, 2, 1, 2, 2, 1, 1, 1, 1, 1, 2, 1, 1, 2, 1, 2,\n",
              "       1, 1, 2, 2, 2, 2, 2, 2, 1, 1, 2, 1, 1, 1, 2, 2, 1, 2, 1, 1, 1, 1,\n",
              "       2, 1, 1, 2, 1, 2, 2, 1, 1, 1, 2, 1, 2, 2, 2, 1, 1, 2, 2, 2, 1, 2,\n",
              "       1, 2, 1, 2, 1, 2, 2, 2, 1, 2, 2, 1, 2, 2, 2, 2, 1, 2, 2, 1, 2, 1,\n",
              "       1, 1, 2, 2, 2, 1, 1, 2, 2, 1, 2, 2, 2, 2, 1, 1, 1, 2, 1, 1, 2, 1,\n",
              "       2, 1, 2, 1, 2, 2, 2, 1, 2, 2, 1, 2, 2, 2, 2, 1, 2, 1, 2, 1, 1, 2,\n",
              "       2, 2, 1, 1, 1, 1, 1, 1, 1, 2, 2, 2, 2, 2, 2, 1, 2, 1, 1, 1, 1, 1,\n",
              "       2, 1, 2, 2, 1, 1, 2, 2, 2, 2, 1, 2, 1, 2, 2, 2, 1, 1, 2, 2, 1, 1,\n",
              "       1, 1, 1, 1, 1, 1, 1, 1, 2, 2, 1, 1, 2, 2, 1, 2, 1, 1, 2, 1, 2, 1,\n",
              "       2, 1, 1, 1, 2, 2, 2, 1, 1, 2, 2, 2, 2, 1, 1, 1, 2, 1, 2, 1, 2, 1,\n",
              "       2, 1, 1, 2, 1, 2, 2, 1, 1, 2, 2, 2, 1, 1, 2, 1, 1, 2, 2, 1, 2, 1,\n",
              "       2, 1, 2, 2, 1, 2, 2, 2, 1, 1, 1, 2, 2, 2, 2, 1, 2, 1, 2, 1, 2, 2,\n",
              "       2, 2, 1, 1, 1, 2, 2, 1, 2, 2, 2, 1, 2, 2, 1, 2, 2, 1, 1, 2, 1, 1,\n",
              "       1, 1, 2, 2, 2, 2, 1, 1, 2, 1, 2, 2, 1, 1, 2, 1, 1, 1, 2, 2, 1, 1,\n",
              "       2, 1, 2, 1, 1, 1, 2, 2, 2, 1, 1, 2, 1, 2, 1, 2, 2, 2, 2, 1, 1, 1,\n",
              "       1, 2, 2, 1, 2, 1, 1, 2, 1, 2, 1, 2, 1, 1, 2, 1, 1, 2, 1, 2, 1, 2,\n",
              "       2, 2, 1, 1, 1, 2, 1, 2, 2, 1, 2, 2, 2, 1, 1, 2, 2, 2, 1, 2, 2, 1,\n",
              "       1, 2, 2, 2, 2, 1, 1, 2, 1, 2, 1, 1, 2, 2, 2, 2, 2, 1, 1, 2, 2, 1,\n",
              "       1, 2, 2, 2, 2, 1, 1, 1, 1, 2, 2, 1, 1, 2, 2, 1, 2, 2, 1, 1, 2, 2,\n",
              "       2, 1, 1, 2, 1, 1, 1, 1, 2, 2, 1, 1, 2, 1, 1, 1, 1, 2, 2, 1, 2, 1,\n",
              "       2, 1, 2, 2, 1, 1, 2, 1, 2, 2, 1, 1, 1, 2, 1, 1, 2, 1, 2, 1, 2, 2,\n",
              "       1, 2, 2, 2, 1, 2, 2, 1, 2, 2, 1, 2, 1, 1, 1, 1, 1, 1, 1, 2, 1])"
            ]
          },
          "metadata": {},
          "execution_count": 31
        }
      ]
    },
    {
      "cell_type": "code",
      "source": [],
      "metadata": {
        "id": "O40Kx6gvA8mR"
      },
      "execution_count": null,
      "outputs": []
    },
    {
      "cell_type": "code",
      "source": [
        "from sklearn.metrics import confusion_matrix, precision_score, accuracy_score, f1_score"
      ],
      "metadata": {
        "id": "zm2NxD1iA8ja"
      },
      "execution_count": null,
      "outputs": []
    },
    {
      "cell_type": "code",
      "source": [
        "c_mat = confusion_matrix(y_true=true_labels,y_pred=predicted_labels)"
      ],
      "metadata": {
        "id": "TDMMuI9bA8gx"
      },
      "execution_count": null,
      "outputs": []
    },
    {
      "cell_type": "code",
      "source": [
        "c_mat"
      ],
      "metadata": {
        "colab": {
          "base_uri": "https://localhost:8080/"
        },
        "id": "3V59KwEmA8da",
        "outputId": "5d2cbfad-ace6-4322-df35-54dfd7cdcb96"
      },
      "execution_count": null,
      "outputs": [
        {
          "output_type": "execute_result",
          "data": {
            "text/plain": [
              "array([[  0,  30,  25,   0,   0],\n",
              "       [  0,  72,  78,   0,   0],\n",
              "       [  0, 132, 139,   0,   0],\n",
              "       [  0,  24,  20,   0,   0],\n",
              "       [  0,  16,  13,   0,   0]])"
            ]
          },
          "metadata": {},
          "execution_count": 34
        }
      ]
    },
    {
      "cell_type": "code",
      "source": [
        "accuracy_score(y_true=true_labels,y_pred=predicted_labels)"
      ],
      "metadata": {
        "colab": {
          "base_uri": "https://localhost:8080/"
        },
        "id": "M1LR5T8tClwf",
        "outputId": "74334f9c-5d15-4821-988e-7e71f23c34cf"
      },
      "execution_count": null,
      "outputs": [
        {
          "output_type": "execute_result",
          "data": {
            "text/plain": [
              "0.3843351548269581"
            ]
          },
          "metadata": {},
          "execution_count": 35
        }
      ]
    },
    {
      "cell_type": "code",
      "source": [],
      "metadata": {
        "id": "yS3_aHeOCltw"
      },
      "execution_count": null,
      "outputs": []
    },
    {
      "cell_type": "code",
      "source": [
        "class_labels = list(test_data_set.class_indices.keys())\n",
        "class_labels"
      ],
      "metadata": {
        "colab": {
          "base_uri": "https://localhost:8080/"
        },
        "id": "kvTJzL7hClrg",
        "outputId": "508ec0be-d770-4782-ca06-0f747ae38176"
      },
      "execution_count": null,
      "outputs": [
        {
          "output_type": "execute_result",
          "data": {
            "text/plain": [
              "['Mild', 'Moderate', 'No_DR', 'Proliferate_DR', 'Severe']"
            ]
          },
          "metadata": {},
          "execution_count": 36
        }
      ]
    },
    {
      "cell_type": "code",
      "source": [],
      "metadata": {
        "id": "JdO3DcUBClm5"
      },
      "execution_count": null,
      "outputs": []
    },
    {
      "cell_type": "code",
      "source": [
        "train_data_set.class_indices"
      ],
      "metadata": {
        "colab": {
          "base_uri": "https://localhost:8080/"
        },
        "id": "dGViVst8Clkk",
        "outputId": "15311b74-3a82-4cf6-efd3-45b04da3942d"
      },
      "execution_count": null,
      "outputs": [
        {
          "output_type": "execute_result",
          "data": {
            "text/plain": [
              "{'Mild': 0, 'Moderate': 1, 'No_DR': 2, 'Proliferate_DR': 3, 'Severe': 4}"
            ]
          },
          "metadata": {},
          "execution_count": 38
        }
      ]
    },
    {
      "cell_type": "code",
      "source": [
        "accuracy = np.mean(predicted_labels == true_labels)\n",
        "accuracy"
      ],
      "metadata": {
        "colab": {
          "base_uri": "https://localhost:8080/"
        },
        "id": "VkrJzaQXClh9",
        "outputId": "69bcc554-da69-4c39-c8ad-8e1d608f5cbb"
      },
      "execution_count": null,
      "outputs": [
        {
          "output_type": "execute_result",
          "data": {
            "text/plain": [
              "0.3843351548269581"
            ]
          },
          "metadata": {},
          "execution_count": 39
        }
      ]
    },
    {
      "cell_type": "code",
      "source": [],
      "metadata": {
        "id": "N8D_J2LKD9de"
      },
      "execution_count": null,
      "outputs": []
    },
    {
      "cell_type": "code",
      "source": [
        "best_model.history"
      ],
      "metadata": {
        "colab": {
          "base_uri": "https://localhost:8080/"
        },
        "id": "Qrb-8gEpD9a5",
        "outputId": "4c8ab237-9346-4972-8383-b4ef75998ac2"
      },
      "execution_count": null,
      "outputs": [
        {
          "output_type": "execute_result",
          "data": {
            "text/plain": [
              "<keras.src.callbacks.History at 0x79ba781f3a60>"
            ]
          },
          "metadata": {},
          "execution_count": 51
        }
      ]
    },
    {
      "cell_type": "code",
      "source": [],
      "metadata": {
        "id": "KASLtcMgFTbm"
      },
      "execution_count": null,
      "outputs": []
    },
    {
      "cell_type": "code",
      "source": [],
      "metadata": {
        "id": "mU8i0C5pFTYb"
      },
      "execution_count": null,
      "outputs": []
    },
    {
      "cell_type": "code",
      "source": [],
      "metadata": {
        "id": "U4Nu3lzFFTUz"
      },
      "execution_count": null,
      "outputs": []
    },
    {
      "cell_type": "code",
      "source": [],
      "metadata": {
        "id": "t-LyZpkqFTQC"
      },
      "execution_count": null,
      "outputs": []
    },
    {
      "cell_type": "code",
      "source": [],
      "metadata": {
        "id": "BC3glkc6D9V0"
      },
      "execution_count": null,
      "outputs": []
    }
  ]
}